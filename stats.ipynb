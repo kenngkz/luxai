{
 "cells": [
  {
   "cell_type": "code",
   "execution_count": 1,
   "metadata": {},
   "outputs": [],
   "source": [
    "from sys import path\n",
    "from constants import PROJECT_DIR\n",
    "path.insert(1, PROJECT_DIR)\n",
    "\n",
    "from master.manager.stage_manager import StageManager\n",
    "from base_utils import path_join\n",
    "from constants import DEFAULT_PARAM_TEMPLATE, MASTER_DATABASE_DIR\n",
    "\n",
    "import pandas as pd\n",
    "import matplotlib.pyplot as plt\n",
    "pd.options.display.max_rows = 4000"
   ]
  },
  {
   "cell_type": "code",
   "execution_count": 2,
   "metadata": {},
   "outputs": [],
   "source": [
    "def stage_stats(stage):\n",
    "    stage_manager = StageManager(DEFAULT_PARAM_TEMPLATE)\n",
    "    stage_info = stage_manager.get_stage_info(stage)\n",
    "    eval_results = stage_info[\"eval_results\"]\n",
    "    winrates = {model_id:[eval_results[model_id][opp_id][\"winrate\"] for opp_id in eval_results[model_id]] for model_id in eval_results}\n",
    "    model_ids = list(winrates.keys())\n",
    "    avg_winrates = [sum(winrates[model_id])/len(winrates[model_id]) for model_id in winrates]\n",
    "    parent, policy, learning_rate, gamma, gae_lambda = zip(*read_models_info(stage, model_ids))\n",
    "    data = zip(model_ids, avg_winrates, parent, policy, learning_rate, gamma, gae_lambda)\n",
    "    scores_df = pd.DataFrame(data, columns=[\"model_id\", \"score\", \"parent\", \"policy\", \"lr\", \"gamma\", \"gae_lambda\"])\n",
    "    return scores_df\n",
    "\n",
    "def read_models_info(stage, models, database=MASTER_DATABASE_DIR):\n",
    "    data = []\n",
    "    for model in models:\n",
    "        model_path = path_join(database, stage, model)\n",
    "        with open(path_join(model_path, \"info.json\")) as f:\n",
    "            model_info = eval(f.read())\n",
    "        parent = model_info[\"parents\"][-1] if len(model_info[\"parents\"]) > 0 else None\n",
    "        data.append([parent, *model_info[\"train_params\"].values()])\n",
    "    return data\n",
    "\n",
    "def stage_best_stats(stage):\n",
    "    stage_manager = StageManager(DEFAULT_PARAM_TEMPLATE)\n",
    "    stage_info = stage_manager.get_stage_info(stage)\n",
    "    scores_df = stage_stats(stage)\n",
    "    best_models = stage_info[\"best_models\"]\n",
    "    mask = [model_id in best_models for model_id in scores_df[\"model_id\"]]\n",
    "    return scores_df.loc[mask].sort_values(\"score\", ascending=False).reset_index(drop=True)"
   ]
  },
  {
   "cell_type": "code",
   "execution_count": 3,
   "metadata": {},
   "outputs": [],
   "source": [
    "stages = [f\"stage_{i}\" for i in range(1, 12)]\n",
    "\n",
    "def get_all_best_stats(stages):\n",
    "    df = pd.DataFrame([], columns=[\"model_id\", \"score\", \"parent\", \"policy\", \"lr\", \"gamma\", \"gae_lambda\", \"stage\"])\n",
    "    for stage in stages:\n",
    "        stage_df = stage_best_stats(stage)\n",
    "        stage_df[\"stage\"] = stage\n",
    "        df = df.append(stage_df).reset_index(drop=True)\n",
    "\n",
    "    df.reset_index(drop=True)\n",
    "    return df"
   ]
  },
  {
   "cell_type": "code",
   "execution_count": 4,
   "metadata": {},
   "outputs": [],
   "source": [
    "df = get_all_best_stats(stages)"
   ]
  },
  {
   "cell_type": "code",
   "execution_count": 5,
   "metadata": {},
   "outputs": [
    {
     "data": {
      "image/png": "[encoded data removed]",
      "text/plain": [
       "<Figure size 432x288 with 1 Axes>"
      ]
     },
     "metadata": {
      "needs_background": "light"
     },
     "output_type": "display_data"
    }
   ],
   "source": [
    "def policy_dist(filtered_stages):\n",
    "    mask = [stage in filtered_stages for stage in df[\"stage\"]]\n",
    "    return df.loc[mask][\"policy\"].value_counts()\n",
    "\n",
    "def plot_policies(max_stage, method=\"cumulative\", avg_range=3):\n",
    "    if method == \"cumulative\":\n",
    "        arg = [[f\"stage_{i}\" for i in range(n, max_stage+1)] for n in range(1, max_stage)]\n",
    "    elif method == \"single\":\n",
    "        arg = [f\"stage_{i}\" for i in range(1, max_stage+1)]\n",
    "    elif method == \"moving_avg\":\n",
    "        arg = [[f\"stage_{i}\" for i in range(n, n+avg_range)] for n in range(1, max_stage-avg_range+1)]\n",
    "    data = []\n",
    "    for a in arg:\n",
    "        dist = policy_dist(a)\n",
    "        dist = dist / sum(dist)\n",
    "        for key in [\"agent1\", \"agent2\", \"agent3\"]:\n",
    "            if key not in dist:\n",
    "                dist[key] = 0\n",
    "        dist = [dist[\"agent1\"], dist[\"agent2\"], dist[\"agent3\"]]\n",
    "        data.append(dist)\n",
    "    plt.plot(data)\n",
    "    plt.legend([\"agent1\", \"agent2\", \"agent3\"])\n",
    "    plt.show()\n",
    "\n",
    "plot_policies(13, method=\"moving_avg\", avg_range=4)"
   ]
  },
  {
   "cell_type": "code",
   "execution_count": null,
   "metadata": {},
   "outputs": [],
   "source": []
  }
 ],
 "metadata": {
  "interpreter": {
   "hash": "2c927ccd33231580592949810da349105f9d3cf696ce29b4b243321200ef9bb0"
  },
  "kernelspec": {
   "display_name": "Python 3.7.11 64-bit ('luxai': conda)",
   "language": "python",
   "name": "python3"
  },
  "language_info": {
   "codemirror_mode": {
    "name": "ipython",
    "version": 3
   },
   "file_extension": ".py",
   "mimetype": "text/x-python",
   "name": "python",
   "nbconvert_exporter": "python",
   "pygments_lexer": "ipython3",
   "version": "3.7.11"
  },
  "orig_nbformat": 4
 },
 "nbformat": 4,
 "nbformat_minor": 2
}
