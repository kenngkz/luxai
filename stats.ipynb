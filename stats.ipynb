{
 "cells": [
  {
   "cell_type": "code",
   "execution_count": 1,
   "metadata": {},
   "outputs": [],
   "source": [
    "from sys import path\n",
    "from constants import PROJECT_DIR\n",
    "path.insert(1, PROJECT_DIR)\n",
    "\n",
    "from master.manager.stage_manager import StageManager\n",
    "from base_utils import path_join\n",
    "from constants import DEFAULT_PARAM_TEMPLATE, MASTER_DATABASE_DIR\n",
    "\n",
    "import pandas as pd\n",
    "import matplotlib.pyplot as plt\n",
    "pd.options.display.max_rows = 4000"
   ]
  },
  {
   "cell_type": "code",
   "execution_count": 8,
   "metadata": {},
   "outputs": [],
   "source": [
    "def stage_stats(stage):\n",
    "    stage_manager = StageManager(DEFAULT_PARAM_TEMPLATE)\n",
    "    stage_info = stage_manager.get_stage_info(stage)\n",
    "    eval_results = stage_info[\"eval_results\"]\n",
    "    winrates = {model_id:[eval_results[model_id][opp_id][\"winrate\"] for opp_id in eval_results[model_id]] for model_id in eval_results}\n",
    "    model_ids = list(winrates.keys())\n",
    "    avg_winrates = [sum(winrates[model_id])/len(winrates[model_id]) for model_id in winrates]\n",
    "    parent, policy, learning_rate, gamma, gae_lambda = zip(*read_models_info(stage, model_ids))\n",
    "    data = zip(model_ids, avg_winrates, parent, policy, learning_rate, gamma, gae_lambda)\n",
    "    scores_df = pd.DataFrame(data, columns=[\"model_id\", \"score\", \"parent\", \"policy\", \"lr\", \"gamma\", \"gae_lambda\"])\n",
    "    return scores_df\n",
    "\n",
    "def read_models_info(stage, models, database=MASTER_DATABASE_DIR):\n",
    "    data = []\n",
    "    for model in models:\n",
    "        model_path = path_join(database, stage, model)\n",
    "        with open(path_join(model_path, \"info.json\")) as f:\n",
    "            model_info = eval(f.read())\n",
    "        parent = model_info[\"parents\"][-1] if len(model_info[\"parents\"]) > 0 else None\n",
    "        data.append([parent, *model_info[\"train_params\"].values()])\n",
    "    return data\n",
    "\n",
    "def stage_best_stats(stage):\n",
    "    stage_manager = StageManager(DEFAULT_PARAM_TEMPLATE)\n",
    "    stage_info = stage_manager.get_stage_info(stage)\n",
    "    scores_df = stage_stats(stage)\n",
    "    best_models = stage_info[\"best_models\"]\n",
    "    mask = [model_id in best_models for model_id in scores_df[\"model_id\"]]\n",
    "    return scores_df.loc[mask].sort_values(\"score\", ascending=False).reset_index(drop=True)"
   ]
  },
  {
   "cell_type": "code",
   "execution_count": 9,
   "metadata": {},
   "outputs": [],
   "source": [
    "def get_all_best_stats(stages):\n",
    "    df = pd.DataFrame([], columns=[\"model_id\", \"score\", \"parent\", \"policy\", \"lr\", \"gamma\", \"gae_lambda\", \"stage\"])\n",
    "    for stage in stages:\n",
    "        stage_df = stage_best_stats(stage)\n",
    "        stage_df[\"stage\"] = stage\n",
    "        df = df.append(stage_df).reset_index(drop=True)\n",
    "\n",
    "    df.reset_index(drop=True)\n",
    "    return df"
   ]
  },
  {
   "cell_type": "code",
   "execution_count": 10,
   "metadata": {},
   "outputs": [],
   "source": [
    "max_stage = 35\n",
    "stages = [f\"stage_{i}\" for i in range(1, max_stage+1)]"
   ]
  },
  {
   "cell_type": "code",
   "execution_count": 11,
   "metadata": {},
   "outputs": [
    {
     "data": {
      "text/html": [
       "<div>\n",
       "<style scoped>\n",
       "    .dataframe tbody tr th:only-of-type {\n",
       "        vertical-align: middle;\n",
       "    }\n",
       "\n",
       "    .dataframe tbody tr th {\n",
       "        vertical-align: top;\n",
       "    }\n",
       "\n",
       "    .dataframe thead th {\n",
       "        text-align: right;\n",
       "    }\n",
       "</style>\n",
       "<table border=\"1\" class=\"dataframe\">\n",
       "  <thead>\n",
       "    <tr style=\"text-align: right;\">\n",
       "      <th></th>\n",
       "      <th>model_id</th>\n",
       "      <th>score</th>\n",
       "      <th>parent</th>\n",
       "      <th>policy</th>\n",
       "      <th>lr</th>\n",
       "      <th>gamma</th>\n",
       "      <th>gae_lambda</th>\n",
       "    </tr>\n",
       "  </thead>\n",
       "  <tbody>\n",
       "    <tr>\n",
       "      <th>0</th>\n",
       "      <td>39082</td>\n",
       "      <td>0.577778</td>\n",
       "      <td>38751</td>\n",
       "      <td>agent4</td>\n",
       "      <td>0.0001</td>\n",
       "      <td>0.995</td>\n",
       "      <td>0.95</td>\n",
       "    </tr>\n",
       "    <tr>\n",
       "      <th>1</th>\n",
       "      <td>77021</td>\n",
       "      <td>0.577778</td>\n",
       "      <td>14955</td>\n",
       "      <td>agent2</td>\n",
       "      <td>0.0001</td>\n",
       "      <td>0.995</td>\n",
       "      <td>0.95</td>\n",
       "    </tr>\n",
       "    <tr>\n",
       "      <th>2</th>\n",
       "      <td>94994</td>\n",
       "      <td>0.511111</td>\n",
       "      <td>38751</td>\n",
       "      <td>agent1</td>\n",
       "      <td>0.0001</td>\n",
       "      <td>0.995</td>\n",
       "      <td>0.95</td>\n",
       "    </tr>\n",
       "  </tbody>\n",
       "</table>\n",
       "</div>"
      ],
      "text/plain": [
       "  model_id     score parent  policy      lr  gamma  gae_lambda\n",
       "0    39082  0.577778  38751  agent4  0.0001  0.995        0.95\n",
       "1    77021  0.577778  14955  agent2  0.0001  0.995        0.95\n",
       "2    94994  0.511111  38751  agent1  0.0001  0.995        0.95"
      ]
     },
     "execution_count": 11,
     "metadata": {},
     "output_type": "execute_result"
    }
   ],
   "source": [
    "stage_best_stats(stages[-1])"
   ]
  },
  {
   "cell_type": "code",
   "execution_count": 12,
   "metadata": {},
   "outputs": [
    {
     "ename": "ValueError",
     "evalue": "not enough values to unpack (expected 5, got 0)",
     "output_type": "error",
     "traceback": [
      "\u001b[1;31m---------------------------------------------------------------------------\u001b[0m",
      "\u001b[1;31mValueError\u001b[0m                                Traceback (most recent call last)",
      "\u001b[1;32m~\\AppData\\Local\\Temp/ipykernel_12880/4215394439.py\u001b[0m in \u001b[0;36m<module>\u001b[1;34m\u001b[0m\n\u001b[1;32m----> 1\u001b[1;33m \u001b[0mdf\u001b[0m \u001b[1;33m=\u001b[0m \u001b[0mget_all_best_stats\u001b[0m\u001b[1;33m(\u001b[0m\u001b[0mstages\u001b[0m\u001b[1;33m)\u001b[0m\u001b[1;33m\u001b[0m\u001b[1;33m\u001b[0m\u001b[0m\n\u001b[0m",
      "\u001b[1;32m~\\AppData\\Local\\Temp/ipykernel_12880/1610627640.py\u001b[0m in \u001b[0;36mget_all_best_stats\u001b[1;34m(stages)\u001b[0m\n\u001b[0;32m      2\u001b[0m     \u001b[0mdf\u001b[0m \u001b[1;33m=\u001b[0m \u001b[0mpd\u001b[0m\u001b[1;33m.\u001b[0m\u001b[0mDataFrame\u001b[0m\u001b[1;33m(\u001b[0m\u001b[1;33m[\u001b[0m\u001b[1;33m]\u001b[0m\u001b[1;33m,\u001b[0m \u001b[0mcolumns\u001b[0m\u001b[1;33m=\u001b[0m\u001b[1;33m[\u001b[0m\u001b[1;34m\"model_id\"\u001b[0m\u001b[1;33m,\u001b[0m \u001b[1;34m\"score\"\u001b[0m\u001b[1;33m,\u001b[0m \u001b[1;34m\"parent\"\u001b[0m\u001b[1;33m,\u001b[0m \u001b[1;34m\"policy\"\u001b[0m\u001b[1;33m,\u001b[0m \u001b[1;34m\"lr\"\u001b[0m\u001b[1;33m,\u001b[0m \u001b[1;34m\"gamma\"\u001b[0m\u001b[1;33m,\u001b[0m \u001b[1;34m\"gae_lambda\"\u001b[0m\u001b[1;33m,\u001b[0m \u001b[1;34m\"stage\"\u001b[0m\u001b[1;33m]\u001b[0m\u001b[1;33m)\u001b[0m\u001b[1;33m\u001b[0m\u001b[1;33m\u001b[0m\u001b[0m\n\u001b[0;32m      3\u001b[0m     \u001b[1;32mfor\u001b[0m \u001b[0mstage\u001b[0m \u001b[1;32min\u001b[0m \u001b[0mstages\u001b[0m\u001b[1;33m:\u001b[0m\u001b[1;33m\u001b[0m\u001b[1;33m\u001b[0m\u001b[0m\n\u001b[1;32m----> 4\u001b[1;33m         \u001b[0mstage_df\u001b[0m \u001b[1;33m=\u001b[0m \u001b[0mstage_best_stats\u001b[0m\u001b[1;33m(\u001b[0m\u001b[0mstage\u001b[0m\u001b[1;33m)\u001b[0m\u001b[1;33m\u001b[0m\u001b[1;33m\u001b[0m\u001b[0m\n\u001b[0m\u001b[0;32m      5\u001b[0m         \u001b[0mstage_df\u001b[0m\u001b[1;33m[\u001b[0m\u001b[1;34m\"stage\"\u001b[0m\u001b[1;33m]\u001b[0m \u001b[1;33m=\u001b[0m \u001b[0mstage\u001b[0m\u001b[1;33m\u001b[0m\u001b[1;33m\u001b[0m\u001b[0m\n\u001b[0;32m      6\u001b[0m         \u001b[0mdf\u001b[0m \u001b[1;33m=\u001b[0m \u001b[0mdf\u001b[0m\u001b[1;33m.\u001b[0m\u001b[0mappend\u001b[0m\u001b[1;33m(\u001b[0m\u001b[0mstage_df\u001b[0m\u001b[1;33m)\u001b[0m\u001b[1;33m.\u001b[0m\u001b[0mreset_index\u001b[0m\u001b[1;33m(\u001b[0m\u001b[0mdrop\u001b[0m\u001b[1;33m=\u001b[0m\u001b[1;32mTrue\u001b[0m\u001b[1;33m)\u001b[0m\u001b[1;33m\u001b[0m\u001b[1;33m\u001b[0m\u001b[0m\n",
      "\u001b[1;32m~\\AppData\\Local\\Temp/ipykernel_12880/1766584787.py\u001b[0m in \u001b[0;36mstage_best_stats\u001b[1;34m(stage)\u001b[0m\n\u001b[0;32m     24\u001b[0m     \u001b[0mstage_manager\u001b[0m \u001b[1;33m=\u001b[0m \u001b[0mStageManager\u001b[0m\u001b[1;33m(\u001b[0m\u001b[0mDEFAULT_PARAM_TEMPLATE\u001b[0m\u001b[1;33m)\u001b[0m\u001b[1;33m\u001b[0m\u001b[1;33m\u001b[0m\u001b[0m\n\u001b[0;32m     25\u001b[0m     \u001b[0mstage_info\u001b[0m \u001b[1;33m=\u001b[0m \u001b[0mstage_manager\u001b[0m\u001b[1;33m.\u001b[0m\u001b[0mget_stage_info\u001b[0m\u001b[1;33m(\u001b[0m\u001b[0mstage\u001b[0m\u001b[1;33m)\u001b[0m\u001b[1;33m\u001b[0m\u001b[1;33m\u001b[0m\u001b[0m\n\u001b[1;32m---> 26\u001b[1;33m     \u001b[0mscores_df\u001b[0m \u001b[1;33m=\u001b[0m \u001b[0mstage_stats\u001b[0m\u001b[1;33m(\u001b[0m\u001b[0mstage\u001b[0m\u001b[1;33m)\u001b[0m\u001b[1;33m\u001b[0m\u001b[1;33m\u001b[0m\u001b[0m\n\u001b[0m\u001b[0;32m     27\u001b[0m     \u001b[0mbest_models\u001b[0m \u001b[1;33m=\u001b[0m \u001b[0mstage_info\u001b[0m\u001b[1;33m[\u001b[0m\u001b[1;34m\"best_models\"\u001b[0m\u001b[1;33m]\u001b[0m\u001b[1;33m\u001b[0m\u001b[1;33m\u001b[0m\u001b[0m\n\u001b[0;32m     28\u001b[0m     \u001b[0mmask\u001b[0m \u001b[1;33m=\u001b[0m \u001b[1;33m[\u001b[0m\u001b[0mmodel_id\u001b[0m \u001b[1;32min\u001b[0m \u001b[0mbest_models\u001b[0m \u001b[1;32mfor\u001b[0m \u001b[0mmodel_id\u001b[0m \u001b[1;32min\u001b[0m \u001b[0mscores_df\u001b[0m\u001b[1;33m[\u001b[0m\u001b[1;34m\"model_id\"\u001b[0m\u001b[1;33m]\u001b[0m\u001b[1;33m]\u001b[0m\u001b[1;33m\u001b[0m\u001b[1;33m\u001b[0m\u001b[0m\n",
      "\u001b[1;32m~\\AppData\\Local\\Temp/ipykernel_12880/1766584787.py\u001b[0m in \u001b[0;36mstage_stats\u001b[1;34m(stage)\u001b[0m\n\u001b[0;32m      6\u001b[0m     \u001b[0mmodel_ids\u001b[0m \u001b[1;33m=\u001b[0m \u001b[0mlist\u001b[0m\u001b[1;33m(\u001b[0m\u001b[0mwinrates\u001b[0m\u001b[1;33m.\u001b[0m\u001b[0mkeys\u001b[0m\u001b[1;33m(\u001b[0m\u001b[1;33m)\u001b[0m\u001b[1;33m)\u001b[0m\u001b[1;33m\u001b[0m\u001b[1;33m\u001b[0m\u001b[0m\n\u001b[0;32m      7\u001b[0m     \u001b[0mavg_winrates\u001b[0m \u001b[1;33m=\u001b[0m \u001b[1;33m[\u001b[0m\u001b[0msum\u001b[0m\u001b[1;33m(\u001b[0m\u001b[0mwinrates\u001b[0m\u001b[1;33m[\u001b[0m\u001b[0mmodel_id\u001b[0m\u001b[1;33m]\u001b[0m\u001b[1;33m)\u001b[0m\u001b[1;33m/\u001b[0m\u001b[0mlen\u001b[0m\u001b[1;33m(\u001b[0m\u001b[0mwinrates\u001b[0m\u001b[1;33m[\u001b[0m\u001b[0mmodel_id\u001b[0m\u001b[1;33m]\u001b[0m\u001b[1;33m)\u001b[0m \u001b[1;32mfor\u001b[0m \u001b[0mmodel_id\u001b[0m \u001b[1;32min\u001b[0m \u001b[0mwinrates\u001b[0m\u001b[1;33m]\u001b[0m\u001b[1;33m\u001b[0m\u001b[1;33m\u001b[0m\u001b[0m\n\u001b[1;32m----> 8\u001b[1;33m     \u001b[0mparent\u001b[0m\u001b[1;33m,\u001b[0m \u001b[0mpolicy\u001b[0m\u001b[1;33m,\u001b[0m \u001b[0mlearning_rate\u001b[0m\u001b[1;33m,\u001b[0m \u001b[0mgamma\u001b[0m\u001b[1;33m,\u001b[0m \u001b[0mgae_lambda\u001b[0m \u001b[1;33m=\u001b[0m \u001b[0mzip\u001b[0m\u001b[1;33m(\u001b[0m\u001b[1;33m*\u001b[0m\u001b[0mread_models_info\u001b[0m\u001b[1;33m(\u001b[0m\u001b[0mstage\u001b[0m\u001b[1;33m,\u001b[0m \u001b[0mmodel_ids\u001b[0m\u001b[1;33m)\u001b[0m\u001b[1;33m)\u001b[0m\u001b[1;33m\u001b[0m\u001b[1;33m\u001b[0m\u001b[0m\n\u001b[0m\u001b[0;32m      9\u001b[0m     \u001b[0mdata\u001b[0m \u001b[1;33m=\u001b[0m \u001b[0mzip\u001b[0m\u001b[1;33m(\u001b[0m\u001b[0mmodel_ids\u001b[0m\u001b[1;33m,\u001b[0m \u001b[0mavg_winrates\u001b[0m\u001b[1;33m,\u001b[0m \u001b[0mparent\u001b[0m\u001b[1;33m,\u001b[0m \u001b[0mpolicy\u001b[0m\u001b[1;33m,\u001b[0m \u001b[0mlearning_rate\u001b[0m\u001b[1;33m,\u001b[0m \u001b[0mgamma\u001b[0m\u001b[1;33m,\u001b[0m \u001b[0mgae_lambda\u001b[0m\u001b[1;33m)\u001b[0m\u001b[1;33m\u001b[0m\u001b[1;33m\u001b[0m\u001b[0m\n\u001b[0;32m     10\u001b[0m     \u001b[0mscores_df\u001b[0m \u001b[1;33m=\u001b[0m \u001b[0mpd\u001b[0m\u001b[1;33m.\u001b[0m\u001b[0mDataFrame\u001b[0m\u001b[1;33m(\u001b[0m\u001b[0mdata\u001b[0m\u001b[1;33m,\u001b[0m \u001b[0mcolumns\u001b[0m\u001b[1;33m=\u001b[0m\u001b[1;33m[\u001b[0m\u001b[1;34m\"model_id\"\u001b[0m\u001b[1;33m,\u001b[0m \u001b[1;34m\"score\"\u001b[0m\u001b[1;33m,\u001b[0m \u001b[1;34m\"parent\"\u001b[0m\u001b[1;33m,\u001b[0m \u001b[1;34m\"policy\"\u001b[0m\u001b[1;33m,\u001b[0m \u001b[1;34m\"lr\"\u001b[0m\u001b[1;33m,\u001b[0m \u001b[1;34m\"gamma\"\u001b[0m\u001b[1;33m,\u001b[0m \u001b[1;34m\"gae_lambda\"\u001b[0m\u001b[1;33m]\u001b[0m\u001b[1;33m)\u001b[0m\u001b[1;33m\u001b[0m\u001b[1;33m\u001b[0m\u001b[0m\n",
      "\u001b[1;31mValueError\u001b[0m: not enough values to unpack (expected 5, got 0)"
     ]
    }
   ],
   "source": [
    "df = get_all_best_stats(stages)"
   ]
  },
  {
   "cell_type": "code",
   "execution_count": 14,
   "metadata": {},
   "outputs": [
    {
     "data": {
      "image/png": "[encoded data removed]",
      "text/plain": [
       "<Figure size 432x288 with 1 Axes>"
      ]
     },
     "metadata": {
      "needs_background": "light"
     },
     "output_type": "display_data"
    }
   ],
   "source": [
    "def policy_dist(filtered_stages, df):\n",
    "    mask = [stage in filtered_stages for stage in df[\"stage\"]]\n",
    "    return df.loc[mask][\"policy\"].value_counts()\n",
    "\n",
    "def plot_policies(max_stage, method=\"cumulative\", avg_range=3):\n",
    "    if method == \"cumulative\":\n",
    "        arg = [[f\"stage_{i}\" for i in range(n, max_stage+1)] for n in range(13, max_stage)]\n",
    "    elif method == \"single\":\n",
    "        arg = [f\"stage_{i}\" for i in range(13, max_stage+1)]\n",
    "    elif method == \"moving_avg\":\n",
    "        arg = [[f\"stage_{i}\" for i in range(n, n+avg_range)] for n in range(13, max_stage-avg_range+1)]\n",
    "    all_stages = [f\"stage_{i}\" for i in range(13, max_stage+1)]\n",
    "    df = get_all_best_stats(all_stages)\n",
    "    data = []\n",
    "    for a in arg:\n",
    "        dist = policy_dist(a, df)\n",
    "        dist = dist / sum(dist)\n",
    "        for key in [\"agent1\", \"agent2\", \"agent3\", \"agent4\"]:\n",
    "            if key not in dist:\n",
    "                dist[key] = 0\n",
    "        dist = [dist[\"agent1\"], dist[\"agent2\"], dist[\"agent3\"], dist[\"agent4\"]]\n",
    "        data.append(dist)\n",
    "    plt.plot(data)\n",
    "    plt.legend([\"agent1\", \"agent2\", \"agent3\", \"agent4\"])\n",
    "    plt.show()\n",
    "\n",
    "plot_policies(max_stage, method=\"moving_avg\", avg_range=4)"
   ]
  },
  {
   "cell_type": "code",
   "execution_count": null,
   "metadata": {},
   "outputs": [],
   "source": []
  }
 ],
 "metadata": {
  "interpreter": {
   "hash": "2c927ccd33231580592949810da349105f9d3cf696ce29b4b243321200ef9bb0"
  },
  "kernelspec": {
   "display_name": "Python 3.7.11 64-bit ('luxai': conda)",
   "language": "python",
   "name": "python3"
  },
  "language_info": {
   "codemirror_mode": {
    "name": "ipython",
    "version": 3
   },
   "file_extension": ".py",
   "mimetype": "text/x-python",
   "name": "python",
   "nbconvert_exporter": "python",
   "pygments_lexer": "ipython3",
   "version": "3.7.11"
  },
  "orig_nbformat": 4
 },
 "nbformat": 4,
 "nbformat_minor": 2
}
